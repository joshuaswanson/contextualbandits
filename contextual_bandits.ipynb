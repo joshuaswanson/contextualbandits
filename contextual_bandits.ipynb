{
 "cells": [
  {
   "cell_type": "code",
   "execution_count": 18,
   "metadata": {},
   "outputs": [],
   "source": [
    "import matplotlib.pyplot as plt\n",
    "import numpy as np\n",
    "from IPython.display import clear_output\n",
    "import multiprocessing as mp"
   ]
  },
  {
   "cell_type": "code",
   "execution_count": null,
   "metadata": {},
   "outputs": [],
   "source": [
    "import library\n",
    "from importlib import reload\n",
    "reload(library)"
   ]
  },
  {
   "cell_type": "code",
   "execution_count": 27,
   "metadata": {},
   "outputs": [],
   "source": [
    "d = 10  # dimension of arms\n",
    "K = 100  # number of arms\n",
    "X = np.random.randn(K, d)  # arms\n",
    "\n",
    "theta_star = np.random.randn(d)\n",
    "idx_star = np.argmax(X@theta_star)  # index of best arm\n",
    "x_star = X[idx_star]  # best arm"
   ]
  },
  {
   "cell_type": "code",
   "execution_count": 28,
   "metadata": {},
   "outputs": [],
   "source": [
    "def A(X, lambda_):\n",
    "    return X.T@np.diag(lambda_)@X"
   ]
  },
  {
   "cell_type": "code",
   "execution_count": 29,
   "metadata": {},
   "outputs": [],
   "source": [
    "def gap(x, x_star=x_star):\n",
    "    return (x_star - x) @ theta_star "
   ]
  },
  {
   "cell_type": "code",
   "execution_count": null,
   "metadata": {},
   "outputs": [],
   "source": [
    "Y_star = X - x_star"
   ]
  },
  {
   "cell_type": "code",
   "execution_count": null,
   "metadata": {},
   "outputs": [],
   "source": [
    "(gap(x) @ theta_star) ** 2"
   ]
  },
  {
   "cell_type": "code",
   "execution_count": 30,
   "metadata": {},
   "outputs": [
    {
     "ename": "NameError",
     "evalue": "name 'self' is not defined",
     "output_type": "error",
     "traceback": [
      "\u001b[0;31m---------------------------------------------------------------------------\u001b[0m",
      "\u001b[0;31mNameError\u001b[0m                                 Traceback (most recent call last)",
      "\u001b[0;32m/tmp/ipykernel_726826/4273712900.py\u001b[0m in \u001b[0;36m<module>\u001b[0;34m\u001b[0m\n\u001b[0;32m----> 1\u001b[0;31m self.B = np.matmul(X.reshape(-1,self.d,1),\n\u001b[0m\u001b[1;32m      2\u001b[0m                    X.reshape(-1,1,self.d))\n",
      "\u001b[0;31mNameError\u001b[0m: name 'self' is not defined"
     ]
    }
   ],
   "source": [
    "V = np.eye(d)\n",
    "B = np.matmul(X.reshape(-1,d,1), X.reshape(-1,1,d))"
   ]
  },
  {
   "cell_type": "code",
   "execution_count": null,
   "metadata": {},
   "outputs": [],
   "source": [
    "np.argmax((x - x_star) @ () @ (x - x_star) / gap(x) ** 2)"
   ]
  },
  {
   "cell_type": "code",
   "execution_count": null,
   "metadata": {},
   "outputs": [],
   "source": [
    "class XYStatic(object):\n",
    "\n",
    "    def __init__(self, X, theta_star, T, sigma=1, name=\"\"):\n",
    "        self.X = X\n",
    "        self.d = X.shape[1]\n",
    "        self.sigma = sigma\n",
    "        self.arm_sequence = []\n",
    "        self.V = np.eye(self.d)\n",
    "        self.theta_star = theta_star\n",
    "        self.best_x = []\n",
    "        self.name = name\n",
    "        self.T = T\n",
    "\n",
    "    def run(self, k):\n",
    "        theta = np.zeros(self.d)\n",
    "        S = 0\n",
    "        for t in range(self.T):\n",
    "            theta_hat = np.random.multivariate_normal(theta, np.linalg.inv(self.V))\n",
    "            x_hat = \n",
    "            \n",
    "            \n",
    "            \n",
    "            best_idx = np.argmax(self.X @ theta_hat)\n",
    "            x_n = self.X[best_idx]\n",
    "            y_n = x_n @ self.theta_star + self.sigma*np.random.randn()\n",
    "            \n",
    "            self.V += np.outer(x_n, x_n)\n",
    "            S += x_n * y_n\n",
    "            theta = np.linalg.inv(self.V) @ S         "
   ]
  },
  {
   "cell_type": "markdown",
   "metadata": {},
   "source": [
    "## Scratch but don't delete"
   ]
  },
  {
   "cell_type": "code",
   "execution_count": 1,
   "metadata": {},
   "outputs": [
    {
     "name": "stdout",
     "output_type": "stream",
     "text": [
      "[[0.21876108 0.21473142]\n",
      " [0.21473142 0.30097   ]]\n",
      "[[0.21876108 0.21473142]\n",
      " [0.21473142 0.30097   ]]\n"
     ]
    }
   ],
   "source": [
    "import numpy as np\n",
    "l =[.1,.2,.3]\n",
    "X = np.random.randn(3,2)\n",
    "s = 0\n",
    "for i in range(3):\n",
    "    s += l[i]*np.outer(X[i], X[i])\n",
    "print(s)\n",
    "\n",
    "print(X.T@np.diag(l)@X)"
   ]
  },
  {
   "cell_type": "code",
   "execution_count": null,
   "metadata": {},
   "outputs": [],
   "source": [
    "U = [u1, u2, u3]\n",
    "V = [v1,v2,v3].T\n",
    "U@v = u1@v1.T + u2@v2.T + u3@v3.T"
   ]
  },
  {
   "cell_type": "code",
   "execution_count": 8,
   "metadata": {},
   "outputs": [],
   "source": [
    "d = 5\n",
    "V = np.eye(d)\n",
    "X = np.random.randn(20,d)\n"
   ]
  },
  {
   "cell_type": "code",
   "execution_count": 11,
   "metadata": {},
   "outputs": [],
   "source": [
    "X = X.reshape(20,1,d)\n",
    "XT = X.reshape(20,d,1)"
   ]
  },
  {
   "cell_type": "code",
   "execution_count": 25,
   "metadata": {},
   "outputs": [],
   "source": [
    "A = V + np.matmul(XT,X)"
   ]
  },
  {
   "cell_type": "code",
   "execution_count": 27,
   "metadata": {},
   "outputs": [],
   "source": [
    "x = np.random.randn(d)"
   ]
  },
  {
   "cell_type": "code",
   "execution_count": 28,
   "metadata": {},
   "outputs": [
    {
     "data": {
      "text/plain": [
       "array([ 3.13103687,  3.00954796,  5.05600226,  3.79457384,  2.85755611,\n",
       "        3.110461  ,  8.68935298,  2.73731387,  3.07675707,  5.63451737,\n",
       "        2.90532333,  5.35543615,  2.90781363,  3.80364324,  2.64713931,\n",
       "       16.7744548 , 11.24417744,  2.90006682,  4.76877344,  3.99901224])"
      ]
     },
     "execution_count": 28,
     "metadata": {},
     "output_type": "execute_result"
    }
   ],
   "source": [
    "x@A@x"
   ]
  },
  {
   "cell_type": "code",
   "execution_count": 30,
   "metadata": {},
   "outputs": [
    {
     "data": {
      "text/plain": [
       "3.0095479645977257"
      ]
     },
     "execution_count": 30,
     "metadata": {},
     "output_type": "execute_result"
    }
   ],
   "source": [
    "x@(V+np.outer(X[1],X[1]))@x"
   ]
  },
  {
   "cell_type": "code",
   "execution_count": null,
   "metadata": {},
   "outputs": [],
   "source": []
  }
 ],
 "metadata": {
  "kernelspec": {
   "display_name": "Python 3 (ipykernel)",
   "language": "python",
   "name": "python3"
  },
  "language_info": {
   "codemirror_mode": {
    "name": "ipython",
    "version": 3
   },
   "file_extension": ".py",
   "mimetype": "text/x-python",
   "name": "python",
   "nbconvert_exporter": "python",
   "pygments_lexer": "ipython3",
   "version": "3.7.11"
  }
 },
 "nbformat": 4,
 "nbformat_minor": 4
}
