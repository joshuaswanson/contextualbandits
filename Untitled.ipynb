{
 "cells": [
  {
   "cell_type": "code",
   "execution_count": 1,
   "id": "489f7029",
   "metadata": {},
   "outputs": [],
   "source": [
    "import numpy as np\n",
    "from distribution import Gaussian, GenericFunction\n",
    "from bandit_type import Linear\n",
    "from instance import soare\n",
    "from library import *\n",
    "import library\n",
    "import utils\n",
    "import importlib"
   ]
  },
  {
   "cell_type": "code",
   "execution_count": 2,
   "id": "b1a30a28",
   "metadata": {},
   "outputs": [],
   "source": [
    "\n",
    "class General(Linear):\n",
    "    \n",
    "    def __init__(self, X, Y, gen_star, T, sigma, name):\n",
    "        super().__init__(X, Y, gen_star, T, sigma, name)\n",
    "        self.pi = Gaussian(np.zeros(self.d), self.V)\n",
    "        if type(gen_star) is np.ndarray:\n",
    "            self.gen_star = GenericFunction(lambda x: x@gen_star, sigma)\n",
    "        else:\n",
    "            self.gen_star = gen_star\n",
    "        self.B = 20\n",
    "        self.pulled = []\n",
    "        self.name = name\n",
    "        self.delta=.001\n",
    "        \n",
    "    def run(self, logging_period=1, k=10):\n",
    "        for t in range(self.T):\n",
    "\n",
    "            f1 = self.pi.sample()\n",
    "            idx1 = np.argmax(f1.evaluate(self.X))\n",
    "            x1 = self.X[idx1]\n",
    "\n",
    "            a = 0\n",
    "            idx2 = idx1\n",
    "            while idx1 == idx2:\n",
    "                f2s = self.pi.sample(k)  # TODO: sample 10 at a time\n",
    "                for f2 in f2s:\n",
    "                    idx2 = np.argmax(f2.evaluate(self.X))\n",
    "                    if idx1 != idx2:\n",
    "                        break\n",
    "                a+=k\n",
    "                if a > 1/self.delta:\n",
    "                    break\n",
    "            if a > 1/self.delta:\n",
    "                    break\n",
    "                    \n",
    "            x2 = self.X[idx2]\n",
    "\n",
    "            v = []               \n",
    "            for idx in range(self.n):\n",
    "                x = self.X[idx]\n",
    "                expected_diff = 0\n",
    "                expected_diff_squared = 0\n",
    "                \n",
    "                for b1 in range(self.B):\n",
    "                    gen_b1 = self.pi.sample()\n",
    "                    y_b1 = gen_b1.pull(x)\n",
    "                    weight = t # we should change this weighting to simulating t observations from x\n",
    "                    pi_plus = self.pi.update_posterior(x*weight, y_b1, copy=True)\n",
    "                    gen_b2 = pi_plus.sample()\n",
    "                    expected_diff += ( gen_b2.evaluate(x1) - gen_b2.evaluate(x2) ) \n",
    "                    expected_diff_squared += ( gen_b2.evaluate(x1) - gen_b2.evaluate(x2) )**2\n",
    "                v.append( expected_diff_squared/self.B - (expected_diff/self.B)**2 )\n",
    "                \n",
    "            min_idx = np.argmin(v)\n",
    "            self.pulled.append(min_idx)\n",
    "            x_n = self.X[min_idx]\n",
    "            y_n = self.gen_star.pull(x_n)\n",
    "            self.pi.update_posterior(x_n, y_n)\n",
    "            \n",
    "            fhat = self.pi.map()\n",
    "            idx = np.argmax(fhat.evaluate(self.X))\n",
    "            self.arms_recommended.append(idx)\n",
    "\n",
    "            if t%logging_period == 0:\n",
    "                print('general run', self.name, 'iter', t, \"/\", self.T, end=\"\\r\")"
   ]
  },
  {
   "cell_type": "code",
   "execution_count": 3,
   "id": "2869fd1e",
   "metadata": {},
   "outputs": [
    {
     "name": "stdout",
     "output_type": "stream",
     "text": [
      "top-two-general-linear: 20.0 secondster 99 / 100\n",
      "top-two-linear: 0.1 seconds er 99 / 100\n"
     ]
    }
   ],
   "source": [
    "importlib.reload(library)\n",
    "import time\n",
    "\n",
    "d = 15\n",
    "T = 100\n",
    "sigma = 1.\n",
    "X, theta_star = soare(d, alpha=1/np.sqrt(d))\n",
    "Y = utils.compute_Y(X)\n",
    "\n",
    "gen_star = GenericFunction(lambda x: x @ theta_star, sigma)\n",
    "\n",
    "ts = time.time()\n",
    "alg = General(X, Y, gen_star, T, sigma, 'top-two-general-linear')\n",
    "try:\n",
    "    alg.run()\n",
    "except:\n",
    "    pass\n",
    "print(alg.name + \": %.1f seconds\" % (time.time()-ts))\n",
    "\n",
    "ts = time.time()\n",
    "alg2 = library.TopTwoAlgorithm(X, Y, theta_star, T, sigma, 'top-two-linear')\n",
    "alg2.run()\n",
    "print(alg2.name + \": %.1f seconds \" % (time.time()-ts))"
   ]
  },
  {
   "cell_type": "code",
   "execution_count": 39,
   "id": "b09a10fb",
   "metadata": {},
   "outputs": [
    {
     "data": {
      "image/png": "[encoded data removed]",
      "text/plain": [
       "<Figure size 432x288 with 1 Axes>"
      ]
     },
     "metadata": {
      "needs_background": "light"
     },
     "output_type": "display_data"
    },
    {
     "data": {
      "image/png": "[encoded data removed]",
      "text/plain": [
       "<Figure size 432x288 with 1 Axes>"
      ]
     },
     "metadata": {
      "needs_background": "light"
     },
     "output_type": "display_data"
    }
   ],
   "source": [
    "import matplotlib.pyplot as plt\n",
    "import seaborn as sns\n",
    "import numpy as np\n",
    "\n",
    "sns.histplot(data=[alg2.arms_recommended, alg.arms_recommended], multiple='dodge',stat='probability',common_norm=False)\n",
    "plt.xlabel('Recommended arm')\n",
    "plt.ylabel('Frequency')\n",
    "plt.show()\n",
    "\n",
    "sns.histplot(bins=range(11),data=[alg2.pulled, alg.pulled], multiple='dodge',stat='probability',common_norm=False)\n",
    "plt.xlabel('Pulled arms')\n",
    "plt.ylabel('Frequency')\n",
    "plt.show()"
   ]
  }
 ],
 "metadata": {
  "kernelspec": {
   "display_name": "Python 3 (ipykernel)",
   "language": "python",
   "name": "python3"
  },
  "language_info": {
   "codemirror_mode": {
    "name": "ipython",
    "version": 3
   },
   "file_extension": ".py",
   "mimetype": "text/x-python",
   "name": "python",
   "nbconvert_exporter": "python",
   "pygments_lexer": "ipython3",
   "version": "3.10.9"
  },
  "vscode": {
   "interpreter": {
    "hash": "7ffa47a41b1aa0425f89451454b8a5b760bf33a32ac1c26eb6f059a8b9fbed3c"
   }
  }
 },
 "nbformat": 4,
 "nbformat_minor": 5
}
