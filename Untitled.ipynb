{
 "cells": [
  {
   "cell_type": "code",
   "execution_count": 2,
   "id": "84c43585",
   "metadata": {},
   "outputs": [],
   "source": [
    "import numpy as np"
   ]
  },
  {
   "cell_type": "code",
   "execution_count": null,
   "id": "95eee002",
   "metadata": {},
   "outputs": [],
   "source": [
    "class General(Linear):\n",
    "    \n",
    "    def __init__(self, X, T, sigma, name):\n",
    "        super().__init__(X, T, sigma, name)\n",
    "        self.pi = Gaussian(self.theta, self.V, self.S)\n",
    "        \n",
    "    def run():\n",
    "        for t in range(T):\n",
    "            \n",
    "            f1 = pi.sample()\n",
    "            idx1 = np.argmax(f1(self.X))\n",
    "            x1 = self.X[best_idx]\n",
    "            \n",
    "            idx2 = idx1\n",
    "            while idx1 == idx2:\n",
    "                f2 = pi.sample()\n",
    "                idx2 = np.argmax(f2(self.X))\n",
    "            x2 = self.X[idx2]\n",
    "\n",
    "            v = []\n",
    "            funcs = [[_ for b1 in range(B)] for b2 in range(B)]\n",
    "            \n",
    "            for idx in range(self.K):\n",
    "                x = X[idx]\n",
    "                for b1 in B:\n",
    "                    f_b1 = pi.sample()\n",
    "                    y_b1 = f_b1 @ x + self.sigma * np.random.randn()\n",
    "                    pi_plus = pi.update_posterior(x, y_b1, copy=True)\n",
    "                    for b2 in B:\n",
    "                        funcs[b1][b2] = pi_plus.sample()\n",
    "                \n",
    "                v[idx] = np.average([variance(funcs[b2][b1](x1), funcs[b2][b1](x2)) for b1 in range(B)]\n",
    "            \n",
    "            x_n = X[argmax(v)]\n",
    "            y_n = theta_star @ x_n\n",
    "            \n",
    "            pi.update_posterior(x_n, y_n)\n",
    "            \n",
    "            self.arms_chosen.append(np.argmax(self.X @ theta))\n",
    "\n",
    "            if t%logging_period == 0:\n",
    "                print('general run', self.name, 'iter', t, \"/\", self.T, end=\"\\r\")"
   ]
  },
  {
   "cell_type": "code",
   "execution_count": null,
   "id": "539c3526",
   "metadata": {},
   "outputs": [],
   "source": []
  },
  {
   "cell_type": "code",
   "execution_count": 4,
   "id": "29f5d5b1",
   "metadata": {},
   "outputs": [
    {
     "data": {
      "text/plain": [
       "7"
      ]
     },
     "execution_count": 4,
     "metadata": {},
     "output_type": "execute_result"
    }
   ],
   "source": [
    "def variance(x, y):\n",
    "    return np.average([(x - y) ** 2 for b2 in range(B)]) - (np.average([(x - y) for b2 in range(B)])) ** 2"
   ]
  },
  {
   "cell_type": "code",
   "execution_count": null,
   "id": "aa40a134",
   "metadata": {},
   "outputs": [],
   "source": []
  },
  {
   "cell_type": "code",
   "execution_count": null,
   "id": "91739762",
   "metadata": {},
   "outputs": [],
   "source": [
    "f_double_prime_matrix\n",
    "    return "
   ]
  },
  {
   "cell_type": "code",
   "execution_count": null,
   "id": "6a971eaf",
   "metadata": {},
   "outputs": [],
   "source": []
  }
 ],
 "metadata": {
  "kernelspec": {
   "display_name": "Python 3 (ipykernel)",
   "language": "python",
   "name": "python3"
  },
  "language_info": {
   "codemirror_mode": {
    "name": "ipython",
    "version": 3
   },
   "file_extension": ".py",
   "mimetype": "text/x-python",
   "name": "python",
   "nbconvert_exporter": "python",
   "pygments_lexer": "ipython3",
   "version": "3.7.11"
  }
 },
 "nbformat": 4,
 "nbformat_minor": 5
}
