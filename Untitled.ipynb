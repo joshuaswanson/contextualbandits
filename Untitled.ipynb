{
 "cells": [
  {
   "cell_type": "code",
   "execution_count": null,
   "id": "e2bcab08",
   "metadata": {},
   "outputs": [],
   "source": [
    "class General():\n",
    "    \n",
    "    def __init__(self, X, T, sigma, name):\n",
    "        self.X = X\n",
    "        self.n, self.d = X.shape\n",
    "        self.T = T\n",
    "        self.sigma = sigma\n",
    "        self.name = name\n",
    "        self.arms_chosen = []\n",
    "        \n",
    "    def run():\n",
    "        for t in range(T):\n",
    "            "
   ]
  },
  {
   "cell_type": "code",
   "execution_count": null,
   "id": "496d5c95",
   "metadata": {},
   "outputs": [],
   "source": []
  }
 ],
 "metadata": {
  "kernelspec": {
   "display_name": "Python 3 (ipykernel)",
   "language": "python",
   "name": "python3"
  },
  "language_info": {
   "codemirror_mode": {
    "name": "ipython",
    "version": 3
   },
   "file_extension": ".py",
   "mimetype": "text/x-python",
   "name": "python",
   "nbconvert_exporter": "python",
   "pygments_lexer": "ipython3",
   "version": "3.7.11"
  }
 },
 "nbformat": 4,
 "nbformat_minor": 5
}
