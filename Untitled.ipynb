{
 "cells": [
  {
   "cell_type": "code",
   "execution_count": 2,
   "id": "489f7029",
   "metadata": {},
   "outputs": [],
   "source": [
    "import numpy as np\n",
    "from distribution import Gaussian, GenericFunction\n",
    "from bandit_type import Linear\n",
    "from instance import soare\n",
    "from library import *\n",
    "import library\n",
    "import utils\n",
    "import importlib"
   ]
  },
  {
   "cell_type": "code",
   "execution_count": 3,
   "id": "b1a30a28",
   "metadata": {},
   "outputs": [],
   "source": [
    "class General(Linear):\n",
    "    \n",
    "    def __init__(self, X, Y, gen_star, T, sigma, name):\n",
    "        super().__init__(X, Y, gen_star, T, sigma, name)\n",
    "        self.pi = Gaussian(np.zeros(self.d), self.V)\n",
    "        self.gen_star = gen_star\n",
    "        self.B = 20\n",
    "        self.pulled = []\n",
    "        \n",
    "    def run(self, logging_period=1, k=10):\n",
    "        for t in range(self.T):\n",
    "            \n",
    "            f1 = self.pi.sample()\n",
    "            idx1 = np.argmax(f1.evaluate(self.X))\n",
    "            x1 = self.X[idx1]\n",
    "            \n",
    "            idx2 = idx1\n",
    "            while idx1 == idx2:\n",
    "                f2s = self.pi.sample(k)  # TODO: sample 10 at a time\n",
    "                for f2 in f2s:\n",
    "                    idx2 = np.argmax(f2.evaluate(self.X))\n",
    "                    if idx1 != idx2:\n",
    "                        break\n",
    "            x2 = self.X[idx2]\n",
    "\n",
    "            v = []               \n",
    "            for idx in range(self.n):\n",
    "                x = self.X[idx]\n",
    "                expected_diff = 0\n",
    "                expected_diff_squared = 0\n",
    "                \n",
    "\n",
    "#                 for b1 in range(self.B):\n",
    "#                     gen_b1 = self.pi.sample()\n",
    "#                     y_b1 = gen_b1.pull(x)\n",
    "#                     pi_plus = self.pi.update_posterior(x, y_b1, copy=True)\n",
    "#                     for b1 in range(self.B):\n",
    "#                         gen_b2 = pi_plus.sample()\n",
    "#                         expected_diff += ( gen_b2.evaluate(x1) - gen_b2.evaluate(x2) ) /self.B \n",
    "#                         expected_diff_squared += ( gen_b2.evaluate(x1) - gen_b2.evaluate(x2) )**2 /self.B\n",
    "#                 v.append( expected_diff_squared/self.B - expected_diff**2/self.B)\n",
    "\n",
    "\n",
    "                for b1 in range(self.B):\n",
    "                    gen_b1 = self.pi.sample()\n",
    "                    y_b1 = gen_b1.pull(x)\n",
    "                    pi_plus = self.pi.update_posterior(x, y_b1, copy=True)\n",
    "                    gen_b2 = pi_plus.sample()\n",
    "                    expected_diff += ( gen_b2.evaluate(x1) - gen_b2.evaluate(x2) ) \n",
    "                    expected_diff_squared += ( gen_b2.evaluate(x1) - gen_b2.evaluate(x2) )**2\n",
    "                v.append( expected_diff_squared/self.B - (expected_diff/self.B)**2 )\n",
    "                \n",
    "            min_idx = np.argmin(v)\n",
    "            self.pulled.append(min_idx)\n",
    "            x_n = self.X[min_idx]\n",
    "            y_n = self.gen_star.pull(x_n)\n",
    "            self.pi.update_posterior(x_n, y_n)\n",
    "            \n",
    "            fhat = self.pi.map()\n",
    "            idx = np.argmax(fhat.evaluate(self.X))\n",
    "            self.arms_recommended.append(idx)\n",
    "\n",
    "            if t%logging_period == 0:\n",
    "                print('general run', self.name, 'iter', t, \"/\", self.T, end=\"\\r\")"
   ]
  },
  {
   "cell_type": "code",
   "execution_count": 4,
   "id": "2869fd1e",
   "metadata": {},
   "outputs": [
    {
     "name": "stdout",
     "output_type": "stream",
     "text": [
      "toptwo run top-two iter 199 / 2000\r"
     ]
    }
   ],
   "source": [
    "importlib.reload(library)\n",
    "\n",
    "d = 5\n",
    "T = 200\n",
    "sigma = 1.\n",
    "X, theta_star = soare(d, alpha=.2)\n",
    "Y = utils.compute_Y(X)\n",
    "\n",
    "gen_star = GenericFunction(lambda x: x @ theta_star, sigma)\n",
    "\n",
    "alg = General(X, Y, gen_star, T, sigma, 'top-two')\n",
    "alg.run()\n",
    "\n",
    "alg2 = library.TopTwoAlgorithm(X, Y, theta_star, T, sigma, 'top-two')\n",
    "alg2.run()\n"
   ]
  },
  {
   "cell_type": "code",
   "execution_count": 5,
   "id": "b09a10fb",
   "metadata": {},
   "outputs": [
    {
     "data": {
      "image/png": "[encoded data removed]",
      "text/plain": [
       "<Figure size 432x288 with 1 Axes>"
      ]
     },
     "metadata": {
      "needs_background": "light"
     },
     "output_type": "display_data"
    },
    {
     "data": {
      "text/plain": [
       "(array([198.,   0.,   0.,   0.,   0.,   0.,   0.,   0.,   0.,   2.]),\n",
       " array([0. , 0.2, 0.4, 0.6, 0.8, 1. , 1.2, 1.4, 1.6, 1.8, 2. ]),\n",
       " <BarContainer object of 10 artists>)"
      ]
     },
     "execution_count": 5,
     "metadata": {},
     "output_type": "execute_result"
    },
    {
     "data": {
      "image/png": "[encoded data removed]",
      "text/plain": [
       "<Figure size 432x288 with 1 Axes>"
      ]
     },
     "metadata": {
      "needs_background": "light"
     },
     "output_type": "display_data"
    }
   ],
   "source": [
    "import matplotlib.pyplot as plt\n",
    "plt.hist(alg2.arms_recommended)\n",
    "plt.show()\n",
    "plt.hist(alg.arms_recommended)\n"
   ]
  },
  {
   "cell_type": "code",
   "execution_count": 25,
   "id": "5e492a68",
   "metadata": {},
   "outputs": [
    {
     "data": {
      "image/png": "[encoded data removed]",
      "text/plain": [
       "<Figure size 640x480 with 1 Axes>"
      ]
     },
     "metadata": {},
     "output_type": "display_data"
    },
    {
     "data": {
      "text/plain": [
       "(array([36.,  0., 33.,  0., 35.,  0., 29.,  0., 34., 33.]),\n",
       " array([0. , 0.5, 1. , 1.5, 2. , 2.5, 3. , 3.5, 4. , 4.5, 5. ]),\n",
       " <BarContainer object of 10 artists>)"
      ]
     },
     "execution_count": 25,
     "metadata": {},
     "output_type": "execute_result"
    },
    {
     "data": {
      "image/png": "[encoded data removed]",
      "text/plain": [
       "<Figure size 640x480 with 1 Axes>"
      ]
     },
     "metadata": {},
     "output_type": "display_data"
    }
   ],
   "source": [
    "import matplotlib.pyplot as plt\n",
    "plt.hist(alg2.pulled)\n",
    "plt.show()\n",
    "plt.hist(alg.pulled)"
   ]
  },
  {
   "cell_type": "code",
   "execution_count": 32,
   "id": "80b08a93",
   "metadata": {},
   "outputs": [
    {
     "data": {
      "text/plain": [
       "array([ 1.76923187,  0.00769338, -0.01872257, -0.23954059,  0.15699031])"
      ]
     },
     "execution_count": 32,
     "metadata": {},
     "output_type": "execute_result"
    }
   ],
   "source": [
    "alg2.theta"
   ]
  },
  {
   "cell_type": "code",
   "execution_count": null,
   "id": "d92db690",
   "metadata": {},
   "outputs": [
    {
     "name": "stdout",
     "output_type": "stream",
     "text": [
      "27 µs ± 194 ns per loop (mean ± std. dev. of 7 runs, 10,000 loops each)\n"
     ]
    }
   ],
   "source": [
    "import numpy as np\n",
    "from distribution import Gaussian\n",
    "g = Gaussian(np.zeros(20), np.eye(20))\n",
    "x = np.random.randn(20)\n",
    "y = 1\n",
    "%timeit g.update_posterior(x,y,copy=True)"
   ]
  },
  {
   "cell_type": "code",
   "execution_count": null,
   "id": "01aa83e3",
   "metadata": {},
   "outputs": [],
   "source": []
  }
 ],
 "metadata": {
  "kernelspec": {
   "display_name": "Python 3 (ipykernel)",
   "language": "python",
   "name": "python3"
  },
  "language_info": {
   "codemirror_mode": {
    "name": "ipython",
    "version": 3
   },
   "file_extension": ".py",
   "mimetype": "text/x-python",
   "name": "python",
   "nbconvert_exporter": "python",
   "pygments_lexer": "ipython3",
   "version": "3.9.7"
  },
  "vscode": {
   "interpreter": {
    "hash": "7ffa47a41b1aa0425f89451454b8a5b760bf33a32ac1c26eb6f059a8b9fbed3c"
   }
  }
 },
 "nbformat": 4,
 "nbformat_minor": 5
}
