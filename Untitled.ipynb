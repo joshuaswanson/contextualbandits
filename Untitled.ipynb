{
 "cells": [
  {
   "cell_type": "code",
   "execution_count": 2,
   "id": "77c8ce59",
   "metadata": {},
   "outputs": [],
   "source": [
    "import numpy as np"
   ]
  },
  {
   "cell_type": "code",
   "execution_count": null,
   "id": "4af39aa9",
   "metadata": {},
   "outputs": [],
   "source": [
    "class General(Linear):\n",
    "    \n",
    "    def __init__(self, X, T, sigma, name):\n",
    "        super().__init__(X, T, sigma, name)\n",
    "        self.pi = Gaussian(self.theta, self.V, self.S)\n",
    "        \n",
    "    def run():\n",
    "        for t in range(T):\n",
    "            \n",
    "            f1 = self.pi.sample()\n",
    "            idx1 = np.argmax(f1(self.X))\n",
    "            x1 = self.X[best_idx]\n",
    "            \n",
    "            idx2 = idx1\n",
    "            while idx1 == idx2:\n",
    "                f2 = self.pi.sample()\n",
    "                idx2 = np.argmax(f2(self.X))\n",
    "            x2 = self.X[idx2]\n",
    "\n",
    "            v = []\n",
    "            funcs = [[_ for b1 in range(B)] for b2 in range(B)]\n",
    "            \n",
    "            for idx in range(self.K):\n",
    "                x = X[idx]\n",
    "                for b1 in B:\n",
    "                    f_b1 = pi.sample()\n",
    "                    y_b1 = f_b1 @ x + self.sigma * np.random.randn()\n",
    "                    pi_plus = pi.update_posterior(x, y_b1, copy=True)\n",
    "                    for b2 in B:\n",
    "                        funcs[b1][b2] = pi_plus.sample()\n",
    "                \n",
    "                v.append(get_v(funcs, x1, x2))\n",
    "            \n",
    "            x_n = X[argmax(v)]\n",
    "            y_n = theta_star @ x_n\n",
    "            \n",
    "            pi.update_posterior(x_n, y_n)\n",
    "            \n",
    "            self.arms_chosen.append(x_n)\n",
    "\n",
    "            if t%logging_period == 0:\n",
    "                print('general run', self.name, 'iter', t, \"/\", self.T, end=\"\\r\")"
   ]
  },
  {
   "cell_type": "code",
   "execution_count": null,
   "id": "435b60b4",
   "metadata": {},
   "outputs": [],
   "source": [
    "def get_v(funcs, x1, x2):\n",
    "    '''\n",
    "    Yes, I know, it's difficult to read *and* inefficient.\n",
    "    Feel free to write it in a better way.\n",
    "    '''\n",
    "    return np.mean([np.mean([(funcs[b1][b2](x1) - funcs[b1][b2](x2)) ** 2 for b2 in range(B)]) - (np.mean([(funcs[b1][b2](x1) - funcs[b1][b2](x2)) for b2 in range(B)])) ** 2 for b1 in range(B)])"
   ]
  },
  {
   "cell_type": "code",
   "execution_count": 1,
   "id": "9485e773",
   "metadata": {},
   "outputs": [],
   "source": []
  },
  {
   "cell_type": "code",
   "execution_count": null,
   "id": "a7c41f8d",
   "metadata": {},
   "outputs": [],
   "source": []
  },
  {
   "cell_type": "code",
   "execution_count": null,
   "id": "bcefa4e1",
   "metadata": {},
   "outputs": [],
   "source": [
    "f_double_prime_matrix\n",
    "    return "
   ]
  },
  {
   "cell_type": "code",
   "execution_count": null,
   "id": "b360300f",
   "metadata": {},
   "outputs": [],
   "source": []
  }
 ],
 "metadata": {
  "kernelspec": {
   "display_name": "Python 3 (ipykernel)",
   "language": "python",
   "name": "python3"
  },
  "language_info": {
   "codemirror_mode": {
    "name": "ipython",
    "version": 3
   },
   "file_extension": ".py",
   "mimetype": "text/x-python",
   "name": "python",
   "nbconvert_exporter": "python",
   "pygments_lexer": "ipython3",
   "version": "3.7.11"
  },
  "vscode": {
   "interpreter": {
    "hash": "7ffa47a41b1aa0425f89451454b8a5b760bf33a32ac1c26eb6f059a8b9fbed3c"
   }
  }
 },
 "nbformat": 4,
 "nbformat_minor": 5
}
