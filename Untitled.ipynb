{
 "cells": [
  {
   "cell_type": "code",
   "execution_count": 1,
   "id": "489f7029",
   "metadata": {},
   "outputs": [],
   "source": [
    "import numpy as np\n",
    "from distribution import Gaussian, GenericFunction\n",
    "from bandit_type import Linear\n",
    "from instance import soare\n",
    "from library import *\n",
    "import library\n",
    "import utils\n",
    "import importlib"
   ]
  },
  {
   "cell_type": "code",
   "execution_count": 2,
   "id": "b1a30a28",
   "metadata": {},
   "outputs": [],
   "source": [
    "class General(Linear):\n",
    "    \n",
    "    def __init__(self, X, Y, gen_star, T, sigma, name):\n",
    "        super().__init__(X, Y, gen_star, T, sigma, name)\n",
    "        self.pi = Gaussian(np.zeros(self.d), self.V)\n",
    "        self.gen_star = gen_star\n",
    "        self.B = 20\n",
    "        self.pulled = []\n",
    "        self.name = name\n",
    "        \n",
    "    def run(self, logging_period=1, k=10):\n",
    "        for t in range(self.T):\n",
    "\n",
    "            f1 = self.pi.sample()\n",
    "            idx1 = np.argmax(f1.evaluate(self.X))\n",
    "            x1 = self.X[idx1]\n",
    "\n",
    "            idx2 = idx1\n",
    "            while idx1 == idx2:\n",
    "                f2s = self.pi.sample(k)  # TODO: sample 10 at a time\n",
    "                for f2 in f2s:\n",
    "                    idx2 = np.argmax(f2.evaluate(self.X))\n",
    "                    if idx1 != idx2:\n",
    "                        break\n",
    "            x2 = self.X[idx2]\n",
    "\n",
    "            v = []               \n",
    "            for idx in range(self.n):\n",
    "                x = self.X[idx]\n",
    "                expected_diff = 0\n",
    "                expected_diff_squared = 0\n",
    "                \n",
    "\n",
    "#                 for b1 in range(self.B):\n",
    "#                     gen_b1 = self.pi.sample()\n",
    "#                     y_b1 = gen_b1.pull(x)\n",
    "#                     pi_plus = self.pi.update_posterior(x, y_b1, copy=True)\n",
    "#                     for b1 in range(self.B):\n",
    "#                         gen_b2 = pi_plus.sample()\n",
    "#                         expected_diff += ( gen_b2.evaluate(x1) - gen_b2.evaluate(x2) ) /self.B \n",
    "#                         expected_diff_squared += ( gen_b2.evaluate(x1) - gen_b2.evaluate(x2) )**2 /self.B\n",
    "#                 v.append( expected_diff_squared/self.B - expected_diff**2/self.B)\n",
    "\n",
    "\n",
    "                for b1 in range(self.B):\n",
    "                    gen_b1 = self.pi.sample()\n",
    "                    y_b1 = gen_b1.pull(x)\n",
    "                    pi_plus = self.pi.update_posterior(x, y_b1, copy=True)\n",
    "                    gen_b2 = pi_plus.sample()\n",
    "                    expected_diff += ( gen_b2.evaluate(x1) - gen_b2.evaluate(x2) ) \n",
    "                    expected_diff_squared += ( gen_b2.evaluate(x1) - gen_b2.evaluate(x2) )**2\n",
    "                v.append( expected_diff_squared/self.B - (expected_diff/self.B)**2 )\n",
    "                \n",
    "            min_idx = np.argmin(v)\n",
    "            self.pulled.append(min_idx)\n",
    "            x_n = self.X[min_idx]\n",
    "            y_n = self.gen_star.pull(x_n)\n",
    "            self.pi.update_posterior(x_n, y_n)\n",
    "            \n",
    "            fhat = self.pi.map()\n",
    "            idx = np.argmax(fhat.evaluate(self.X))\n",
    "            self.arms_recommended.append(idx)\n",
    "\n",
    "            if t%logging_period == 0:\n",
    "                print('general run', self.name, 'iter', t, \"/\", self.T, end=\"\\r\")"
   ]
  },
  {
   "cell_type": "code",
   "execution_count": 3,
   "id": "2869fd1e",
   "metadata": {},
   "outputs": [
    {
     "name": "stdout",
     "output_type": "stream",
     "text": [
      "top-two-general-linear: 2.3 secondsiter 99 / 100\n",
      "top-two-linear: 0.1 seconds er 99 / 100\n"
     ]
    }
   ],
   "source": [
    "importlib.reload(library)\n",
    "import time\n",
    "\n",
    "d = 4\n",
    "T = 100\n",
    "sigma = 1.\n",
    "X, theta_star = soare(d, alpha=1/np.sqrt(d))\n",
    "Y = utils.compute_Y(X)\n",
    "\n",
    "gen_star = GenericFunction(lambda x: x @ theta_star, sigma)\n",
    "\n",
    "ts = time.time()\n",
    "alg = General(X, Y, gen_star, T, sigma, 'top-two-general-linear')\n",
    "alg.run()\n",
    "print(alg.name + \": %.1f seconds\" % (time.time()-ts))\n",
    "\n",
    "ts = time.time()\n",
    "alg2 = library.TopTwoAlgorithm(X, Y, theta_star, T, sigma, 'top-two-linear')\n",
    "alg2.run()\n",
    "print(alg2.name + \": %.1f seconds \" % (time.time()-ts))"
   ]
  },
  {
   "cell_type": "code",
   "execution_count": 4,
   "id": "b09a10fb",
   "metadata": {},
   "outputs": [
    {
     "data": {
      "image/png": "[encoded data removed]",
      "text/plain": [
       "<Figure size 432x288 with 1 Axes>"
      ]
     },
     "metadata": {
      "needs_background": "light"
     },
     "output_type": "display_data"
    },
    {
     "data": {
      "image/png": "[encoded data removed]",
      "text/plain": [
       "<Figure size 432x288 with 1 Axes>"
      ]
     },
     "metadata": {
      "needs_background": "light"
     },
     "output_type": "display_data"
    }
   ],
   "source": [
    "import matplotlib.pyplot as plt\n",
    "import seaborn as sns\n",
    "import numpy as np\n",
    "\n",
    "sns.histplot(data=[alg2.arms_recommended, alg.arms_recommended], multiple='dodge')\n",
    "plt.xlabel('Recommended arm')\n",
    "plt.ylabel('Frequency')\n",
    "plt.show()\n",
    "\n",
    "sns.histplot(bins=range(11),data=[alg2.pulled, alg.pulled], multiple='dodge')\n",
    "plt.xlabel('Pulled arms')\n",
    "plt.ylabel('Frequency')\n",
    "plt.show()"
   ]
  },
  {
   "cell_type": "code",
   "execution_count": 8,
   "id": "5657f1a9",
   "metadata": {},
   "outputs": [
    {
     "data": {
      "text/plain": [
       "array([ 2.23137379, -0.07669883,  0.25735363, -0.09395652,  1.92144335])"
      ]
     },
     "execution_count": 8,
     "metadata": {},
     "output_type": "execute_result"
    }
   ],
   "source": [
    "alg.pi.sample().evaluate(X)"
   ]
  },
  {
   "cell_type": "code",
   "execution_count": 10,
   "id": "3c77f2ad",
   "metadata": {},
   "outputs": [],
   "source": [
    "k=10\n",
    "f1 = alg.pi.sample()\n",
    "idx1 = np.argmax(f1.evaluate(alg.X))\n",
    "x1 = alg.X[idx1]\n",
    "\n",
    "idx2 = idx1\n",
    "while idx1 == idx2:\n",
    "    f2s = alg.pi.sample(k)  # TODO: sample 10 at a time\n",
    "    for f2 in f2s:\n",
    "        idx2 = np.argmax(f2.evaluate(alg.X))\n",
    "        if idx1 != idx2:\n",
    "            break\n",
    "x2 = alg.X[idx2]"
   ]
  },
  {
   "cell_type": "code",
   "execution_count": 11,
   "id": "1a3ea01f",
   "metadata": {},
   "outputs": [
    {
     "data": {
      "text/plain": [
       "array([1., 0., 0., 0.])"
      ]
     },
     "execution_count": 11,
     "metadata": {},
     "output_type": "execute_result"
    }
   ],
   "source": [
    "x1"
   ]
  },
  {
   "cell_type": "code",
   "execution_count": 12,
   "id": "4b9beb04",
   "metadata": {},
   "outputs": [
    {
     "data": {
      "text/plain": [
       "array([0.87758256, 0.47942554, 0.        , 0.        ])"
      ]
     },
     "execution_count": 12,
     "metadata": {},
     "output_type": "execute_result"
    }
   ],
   "source": [
    "x2"
   ]
  },
  {
   "cell_type": "code",
   "execution_count": 17,
   "id": "99797308",
   "metadata": {},
   "outputs": [],
   "source": [
    "B = 1000\n",
    "v = []               \n",
    "for idx in range(alg.n):\n",
    "    x = alg.X[idx]\n",
    "    expected_diff = 0\n",
    "    expected_diff_squared = 0\n",
    "\n",
    "    for b1 in range(B):\n",
    "        gen_b1 = alg.pi.sample()\n",
    "        y_b1 = gen_b1.pull(x)\n",
    "        pi_plus = alg.pi.update_posterior(x, y_b1, copy=True)\n",
    "        gen_b2 = pi_plus.sample()\n",
    "        expected_diff += ( gen_b2.evaluate(x1) - gen_b2.evaluate(x2) ) \n",
    "        expected_diff_squared += ( gen_b2.evaluate(x1) - gen_b2.evaluate(x2) )**2\n",
    "    v.append( expected_diff_squared/B - (expected_diff/B)**2 )"
   ]
  },
  {
   "cell_type": "code",
   "execution_count": 18,
   "id": "cc8eaa85",
   "metadata": {},
   "outputs": [
    {
     "data": {
      "text/plain": [
       "[0.010267439109529791,\n",
       " 0.01054926632707813,\n",
       " 0.010795222507987867,\n",
       " 0.010346158898341992,\n",
       " 0.01045466311109046]"
      ]
     },
     "execution_count": 18,
     "metadata": {},
     "output_type": "execute_result"
    }
   ],
   "source": [
    "v"
   ]
  },
  {
   "cell_type": "code",
   "execution_count": null,
   "id": "ac64bf3f",
   "metadata": {},
   "outputs": [],
   "source": []
  }
 ],
 "metadata": {
  "kernelspec": {
   "display_name": "Python 3 (ipykernel)",
   "language": "python",
   "name": "python3"
  },
  "language_info": {
   "codemirror_mode": {
    "name": "ipython",
    "version": 3
   },
   "file_extension": ".py",
   "mimetype": "text/x-python",
   "name": "python",
   "nbconvert_exporter": "python",
   "pygments_lexer": "ipython3",
   "version": "3.9.7"
  },
  "vscode": {
   "interpreter": {
    "hash": "7ffa47a41b1aa0425f89451454b8a5b760bf33a32ac1c26eb6f059a8b9fbed3c"
   }
  }
 },
 "nbformat": 4,
 "nbformat_minor": 5
}
