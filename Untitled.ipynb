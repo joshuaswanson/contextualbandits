{
 "cells": [
  {
   "cell_type": "code",
   "execution_count": 22,
   "id": "489f7029",
   "metadata": {},
   "outputs": [],
   "source": [
    "import numpy as np\n",
    "from distribution import Gaussian, GenericFunction\n",
    "from bandit_type import Linear\n",
    "from instance import soare\n",
    "import utils"
   ]
  },
  {
   "cell_type": "code",
   "execution_count": 23,
   "id": "b1a30a28",
   "metadata": {},
   "outputs": [],
   "source": [
    "class General(Linear):\n",
    "    \n",
    "    def __init__(self, X, Y, gen_star, T, sigma, name):\n",
    "        super().__init__(X, Y, gen_star, T, sigma, name)\n",
    "        self.pi = Gaussian(np.zeros(self.d), self.V)\n",
    "        self.gen_star = gen_star\n",
    "        self.B = 100\n",
    "        \n",
    "        \n",
    "    def run(self, logging_period=1):\n",
    "        for t in range(self.T):\n",
    "            \n",
    "            f1 = self.pi.sample()\n",
    "            idx1 = np.argmax(f1.evaluate(self.X))\n",
    "            x1 = self.X[idx1]\n",
    "            \n",
    "            idx2 = idx1\n",
    "            while idx1 == idx2:\n",
    "                f2 = self.pi.sample()  # TODO: sample 10 at a time\n",
    "                idx2 = np.argmax(f2.evaluate(self.X))\n",
    "            x2 = self.X[idx2]\n",
    "\n",
    "            v = []   \n",
    "            \n",
    "            for idx in range(self.K):\n",
    "                \n",
    "                x = self.X[idx]\n",
    "                expected_diff = 0\n",
    "                expected_diff_squared = 0\n",
    "                \n",
    "                for b1 in range(self.B):\n",
    "                    gen_b1 = self.pi.sample()\n",
    "                    y_b1 = gen_b1.pull(x)\n",
    "                    pi_plus = self.pi.update_posterior(x, y_b1, copy=True)\n",
    "                    gen_b2 = pi_plus.sample()\n",
    "                    expected_diff += ( gen_b2.evaluate(x1) - gen_b2.evaluate(x2) ) / self.B\n",
    "                    expected_diff_squared += ( gen_b2.evaluate(x1) - gen_b2.evaluate(x2) )**2 / self.B\n",
    "                \n",
    "                v.append( expected_diff_squared - expected_diff**2 )\n",
    "            \n",
    "            x_n = X[np.argmax(v)]\n",
    "            y_n = self.gen_star.pull(x_n)\n",
    "            self.pi.update_posterior(x_n, y_n)\n",
    "            self.arms_chosen.append(x_n)\n",
    "\n",
    "            if t%logging_period == 0:\n",
    "                print('general run', self.name, 'iter', t, \"/\", self.T, end=\"\\r\")"
   ]
  },
  {
   "cell_type": "code",
   "execution_count": 1,
   "id": "2869fd1e",
   "metadata": {},
   "outputs": [],
   "source": [
    "d = 5\n",
    "T = 1000\n",
    "sigma = 1.\n",
    "X, theta_star = soare(d, alpha=.1)\n",
    "Y = utils.compute_Y(X)\n",
    "\n",
    "gen_star = GenericFunction(lambda x: x @ theta_star, sigma)\n",
    "\n",
    "alg = General(X, Y, gen_star, T, sigma, 'top-two')\n",
    "alg.run()"
   ]
  },
  {
   "cell_type": "code",
   "execution_count": null,
   "id": "d92db690",
   "metadata": {},
   "outputs": [],
   "source": []
  },
  {
   "cell_type": "code",
   "execution_count": null,
   "id": "01aa83e3",
   "metadata": {},
   "outputs": [],
   "source": []
  }
 ],
 "metadata": {
  "kernelspec": {
   "display_name": "Python 3 (ipykernel)",
   "language": "python",
   "name": "python3"
  },
  "language_info": {
   "codemirror_mode": {
    "name": "ipython",
    "version": 3
   },
   "file_extension": ".py",
   "mimetype": "text/x-python",
   "name": "python",
   "nbconvert_exporter": "python",
   "pygments_lexer": "ipython3",
   "version": "3.10.9"
  },
  "vscode": {
   "interpreter": {
    "hash": "7ffa47a41b1aa0425f89451454b8a5b760bf33a32ac1c26eb6f059a8b9fbed3c"
   }
  }
 },
 "nbformat": 4,
 "nbformat_minor": 5
}
